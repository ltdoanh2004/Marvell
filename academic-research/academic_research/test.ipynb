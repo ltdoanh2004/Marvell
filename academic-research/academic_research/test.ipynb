{
 "cells": [
  {
   "cell_type": "code",
   "execution_count": 1,
   "id": "ff22053b",
   "metadata": {},
   "outputs": [],
   "source": [
    "custom_fact_extraction_prompt = \"\"\"\n",
    "Please only extract entities containing customer support information, order details, and user information. \n",
    "Here are some few shot examples:\n",
    "\n",
    "Input: Hi.\n",
    "Output: {{\"facts\" : []}}\n",
    "\n",
    "Input: The weather is nice today.\n",
    "Output: {{\"facts\" : []}}\n",
    "\n",
    "Input: My order #12345 hasn't arrived yet.\n",
    "Output: {{\"facts\" : [\"Order #12345 not received\"]}}\n",
    "\n",
    "Input: I'm John Doe, and I'd like to return the shoes I bought last week.\n",
    "Output: {{\"facts\" : [\"Customer name: John Doe\", \"Wants to return shoes\", \"Purchase made last week\"]}}\n",
    "\n",
    "Input: I ordered a red shirt, size medium, but received a blue one instead.\n",
    "Output: {{\"facts\" : [\"Ordered red shirt, size medium\", \"Received blue shirt instead\"]}}\n",
    "\n",
    "Return the facts and customer information in a json format as shown above.\n",
    "\"\"\""
   ]
  },
  {
   "cell_type": "code",
   "execution_count": 4,
   "id": "ee236375",
   "metadata": {},
   "outputs": [],
   "source": [
    "from mem0 import Memory\n",
    "import os\n",
    "from dotenv import load_dotenv\n",
    "load_dotenv()\n",
    "os.environ[\"OPENAI_API_KEY\"] = os.getenv(\"OPENAI_API_KEY\")\n",
    "config = {\n",
    "    \"llm\": {\n",
    "        \"provider\": \"openai\",\n",
    "        \"config\": {\n",
    "            \"model\": \"gpt-4o\",\n",
    "            \"temperature\": 0.2,\n",
    "            \"max_tokens\": 2000,\n",
    "        }\n",
    "    },\n",
    "    \"custom_fact_extraction_prompt\": custom_fact_extraction_prompt,\n",
    "    \"version\": \"v1.1\"\n",
    "}\n",
    "\n",
    "m = Memory.from_config(config_dict=config)"
   ]
  },
  {
   "cell_type": "code",
   "execution_count": 5,
   "id": "5329216f",
   "metadata": {},
   "outputs": [
    {
     "data": {
      "text/plain": [
       "{'results': [{'id': '232e173c-295f-4032-9f4e-7c8dabad4c2b',\n",
       "   'memory': 'Ordered a laptop',\n",
       "   'event': 'ADD'},\n",
       "  {'id': '1d324318-01f9-4693-8c3b-d648a26a4c05',\n",
       "   'memory': 'Order ID: 12345',\n",
       "   'event': 'ADD'},\n",
       "  {'id': '77c90f0e-11b8-47a8-b61a-04d71955f689',\n",
       "   'memory': 'Order placed yesterday',\n",
       "   'event': 'ADD'}]}"
      ]
     },
     "execution_count": 5,
     "metadata": {},
     "output_type": "execute_result"
    }
   ],
   "source": [
    "m.add(\"Yesterday, I ordered a laptop, the order id is 12345\", user_id=\"alice\")"
   ]
  },
  {
   "cell_type": "code",
   "execution_count": 6,
   "id": "f7e599bc",
   "metadata": {},
   "outputs": [
    {
     "data": {
      "text/plain": [
       "{'results': []}"
      ]
     },
     "execution_count": 6,
     "metadata": {},
     "output_type": "execute_result"
    }
   ],
   "source": [
    "m.add(\"I like going to hikes\", user_id=\"alice\")"
   ]
  }
 ],
 "metadata": {
  "kernelspec": {
   "display_name": "autogen",
   "language": "python",
   "name": "python3"
  },
  "language_info": {
   "codemirror_mode": {
    "name": "ipython",
    "version": 3
   },
   "file_extension": ".py",
   "mimetype": "text/x-python",
   "name": "python",
   "nbconvert_exporter": "python",
   "pygments_lexer": "ipython3",
   "version": "3.11.13"
  }
 },
 "nbformat": 4,
 "nbformat_minor": 5
}
