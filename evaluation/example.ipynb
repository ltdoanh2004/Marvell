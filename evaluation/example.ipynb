{
 "cells": [
  {
   "cell_type": "markdown",
   "id": "2580b34f",
   "metadata": {},
   "source": [
    "# ADD mem"
   ]
  },
  {
   "cell_type": "code",
   "execution_count": 3,
   "id": "c9b8f89f",
   "metadata": {},
   "outputs": [
    {
     "name": "stdout",
     "output_type": "stream",
     "text": [
      "Inferred Memory Result: {'results': [{'id': '3e5ed206-ef8b-401c-bdd7-ae3ec7dbbd5c', 'memory': 'Planning to watch a movie on 11/11/2024', 'event': 'ADD'}, {'id': '9afa8e0e-e405-483a-97a7-2bb1afd73ea2', 'memory': 'Not a big fan of thriller movies', 'event': 'ADD'}, {'id': '28acd5b4-75ff-4f78-9c93-0da51f9a93c1', 'memory': 'Loves sci-fi movies', 'event': 'ADD'}]}\n",
      "Raw Memory Result: {'results': [{'id': 'a911d471-4f25-4fc2-b520-f7dd07c6a710', 'memory': \"I'm planning to watch a movie at 11/11/2024. Any recommendations?\", 'event': 'ADD', 'actor_id': None, 'role': 'user'}, {'id': '501c6d98-1827-4f4e-8079-82fccda831ab', 'memory': 'How about a thriller movies? They can be quite engaging.', 'event': 'ADD', 'actor_id': None, 'role': 'assistant'}, {'id': 'daa2b6c8-8dc2-434f-bd1c-5cd9bb34f369', 'memory': \"I'm not a big fan of thriller movies but I love sci-fi movies.\", 'event': 'ADD', 'actor_id': None, 'role': 'user'}, {'id': '6c1e052d-f109-40a5-b215-089ebf9c92e6', 'memory': \"Got it! I'll avoid thriller recommendations and suggest sci-fi movies in the future.\", 'event': 'ADD', 'actor_id': None, 'role': 'assistant'}]}\n"
     ]
    }
   ],
   "source": [
    "import os\n",
    "from mem0 import Memory\n",
    "from dotenv import load_dotenv\n",
    "load_dotenv()\n",
    "\n",
    "SHARED_OPEN_AI_CONFIG = {  \n",
    "    \"llm\": {  \n",
    "        \"provider\": \"openai\",  \n",
    "        \"config\": {  \n",
    "            \"model\": os.getenv(\"MODEL\", \"gpt-4o\"),  \n",
    "            \"api_key\": os.getenv(\"OPENAI_API_KEY\")  \n",
    "        }  \n",
    "    },  \n",
    "    \"embedder\": {  \n",
    "        \"provider\": \"openai\",  \n",
    "        \"config\": {  \n",
    "            \"model\": \"text-embedding-3-small\"  \n",
    "        }  \n",
    "    },  \n",
    "    \"vector_store\": {  \n",
    "        \"provider\": \"faiss\",  \n",
    "        \"config\": {  \n",
    "            \"path\": \"./faiss_graph_db\",  \n",
    "            \"collection_name\": \"mem0_evaluation\"  \n",
    "        }  \n",
    "    }\n",
    "}\n",
    "m = Memory.from_config(SHARED_OPEN_AI_CONFIG)\n",
    "messages = [\n",
    "    {\"role\": \"user\", \"content\": \"I'm planning to watch a movie at 11/11/2024. Any recommendations?\"},\n",
    "    {\"role\": \"assistant\", \"content\": \"How about a thriller movies? They can be quite engaging.\"},\n",
    "    {\"role\": \"user\", \"content\": \"I'm not a big fan of thriller movies but I love sci-fi movies.\"},\n",
    "    {\"role\": \"assistant\", \"content\": \"Got it! I'll avoid thriller recommendations and suggest sci-fi movies in the future.\"}\n",
    "]\n",
    "\n",
    "# Store inferred memories (default behavior)\n",
    "result = m.add(messages, user_id=\"alice\", metadata={\"category\": \"movie_recommendations\"})\n",
    "print(\"Inferred Memory Result:\", result)\n",
    "# Optionally store raw messages without inference\n",
    "result = m.add(messages, user_id=\"Tom\", metadata={\"category\": \"movie_recommendations\"}, infer=False)\n",
    "print(\"Raw Memory Result:\", result)"
   ]
  },
  {
   "cell_type": "markdown",
   "id": "131b2dba",
   "metadata": {},
   "source": [
    "# update - delete: memory"
   ]
  },
  {
   "cell_type": "code",
   "execution_count": 9,
   "id": "2a79c05c",
   "metadata": {},
   "outputs": [
    {
     "name": "stdout",
     "output_type": "stream",
     "text": [
      "Inferred Memory Result: {'results': [{'id': 'eb9e3e4e-99be-49ed-9845-b90732127ab7', 'memory': 'Planning to watch a football match on 11/11/2024', 'event': 'ADD'}]}\n"
     ]
    }
   ],
   "source": [
    "messages = [\n",
    "    {\"role\": \"user\", \"content\": \"Actually, I'm planning to watch a football match at 11/11/2024, not movies.\"},\n",
    "]\n",
    "# Store inferred memories (default behavior)\n",
    "result = m.add(messages, user_id=\"alice\")\n",
    "print(\"Inferred Memory Result:\", result)"
   ]
  },
  {
   "cell_type": "code",
   "execution_count": 6,
   "id": "b3887cb4",
   "metadata": {},
   "outputs": [
    {
     "name": "stdout",
     "output_type": "stream",
     "text": [
      "Inferred Memory Result: {'results': [{'id': '28acd5b4-75ff-4f78-9c93-0da51f9a93c1', 'memory': 'Loves watching movies, especially sci-fi', 'event': 'UPDATE', 'previous_memory': 'Loves sci-fi movies'}]}\n"
     ]
    }
   ],
   "source": [
    "messages = [\n",
    "    {\"role\": \"user\", \"content\": \"I love watching movies, especially sci-fi.\"},\n",
    "]\n",
    "# Store inferred memories (default behavior)\n",
    "result = m.add(messages, user_id=\"alice\", metadata={\"category\": \"movie_recommendations\"})\n",
    "print(\"Inferred Memory Result:\", result)"
   ]
  },
  {
   "cell_type": "code",
   "execution_count": 7,
   "id": "883e7e08",
   "metadata": {},
   "outputs": [
    {
     "name": "stdout",
     "output_type": "stream",
     "text": [
      "Inferred Memory Result: {'results': [{'id': '28acd5b4-75ff-4f78-9c93-0da51f9a93c1', 'memory': 'Loves watching movies, especially sci-fi', 'event': 'DELETE'}]}\n"
     ]
    }
   ],
   "source": [
    "messages = [\n",
    "    {\"role\": \"user\", \"content\": \"Actually, I do not love watching movies, especially sci-fi.\"}\n",
    "\n",
    "]\n",
    "# Store inferred memories (default behavior)\n",
    "result = m.add(messages, user_id=\"alice\", metadata={\"category\": \"movie_recommendations\"})\n",
    "print(\"Inferred Memory Result:\", result)"
   ]
  },
  {
   "cell_type": "markdown",
   "id": "14c20100",
   "metadata": {},
   "source": [
    "# search"
   ]
  },
  {
   "cell_type": "code",
   "execution_count": 8,
   "id": "e1d9f9fe",
   "metadata": {},
   "outputs": [
    {
     "data": {
      "text/plain": [
       "{'results': [{'id': 'a911d471-4f25-4fc2-b520-f7dd07c6a710',\n",
       "   'memory': \"I'm planning to watch a movie at 11/11/2024. Any recommendations?\",\n",
       "   'hash': 'ebdcf7812a397c3f0e4b1a3a9f6877dd',\n",
       "   'metadata': {'category': 'movie_recommendations'},\n",
       "   'score': 1.6732146739959717,\n",
       "   'created_at': '2025-07-08T03:11:08.315244-07:00',\n",
       "   'updated_at': None,\n",
       "   'user_id': 'Tom',\n",
       "   'role': 'user'},\n",
       "  {'id': '501c6d98-1827-4f4e-8079-82fccda831ab',\n",
       "   'memory': 'How about a thriller movies? They can be quite engaging.',\n",
       "   'hash': '6b8582d760dab9091db299ac5a8cf759',\n",
       "   'metadata': {'category': 'movie_recommendations'},\n",
       "   'score': 1.7241477966308594,\n",
       "   'created_at': '2025-07-08T03:11:09.433660-07:00',\n",
       "   'updated_at': None,\n",
       "   'user_id': 'Tom',\n",
       "   'role': 'assistant'}]}"
      ]
     },
     "execution_count": 8,
     "metadata": {},
     "output_type": "execute_result"
    }
   ],
   "source": [
    "\n",
    "related_memories = m.search(\"Should I drink coffee or tea?\", user_id=\"Tom\")\n",
    "\n",
    "related_memories"
   ]
  },
  {
   "cell_type": "markdown",
   "id": "cf05ede6",
   "metadata": {},
   "source": [
    "# Custom fact extraction promt"
   ]
  },
  {
   "cell_type": "code",
   "execution_count": 3,
   "id": "5381756e",
   "metadata": {},
   "outputs": [],
   "source": [
    "custom_fact_extraction_prompt = \"\"\"\n",
    "Please only extract entities containing customer support information, order details, and user information. \n",
    "Here are some few shot examples:\n",
    "\n",
    "Input: Hi.\n",
    "Output: {{\"facts\" : []}}\n",
    "\n",
    "Input: The weather is nice today.\n",
    "Output: {{\"facts\" : []}}\n",
    "\n",
    "Input: My order #12345 hasn't arrived yet.\n",
    "Output: {{\"facts\" : [\"Order #12345 not received\"]}}\n",
    "\n",
    "Input: I'm John Doe, and I'd like to return the shoes I bought last week.\n",
    "Output: {{\"facts\" : [\"Customer name: John Doe\", \"Wants to return shoes\", \"Purchase made last week\"]}}\n",
    "\n",
    "Input: I ordered a red shirt, size medium, but received a blue one instead.\n",
    "Output: {{\"facts\" : [\"Ordered red shirt, size medium\", \"Received blue shirt instead\"]}}\n",
    "\n",
    "Return the facts and customer information in a json format as shown above.\n",
    "\"\"\""
   ]
  },
  {
   "cell_type": "code",
   "execution_count": 6,
   "id": "9de6d6d3",
   "metadata": {},
   "outputs": [],
   "source": [
    "from mem0 import Memory\n",
    "import os\n",
    "from dotenv import load_dotenv\n",
    "load_dotenv()\n",
    "config = {\n",
    "    \"llm\": {\n",
    "        \"provider\": \"gemini\",\n",
    "        \"config\": {\n",
    "            \"model\": \"gemini-2.0-flash-001\",\n",
    "            \"temperature\": 0.2,\n",
    "            \"max_tokens\": 2000,\n",
    "            \"top_p\": 1.0,\n",
    "            \"api_key\": os.getenv(\"GOOGLE_API_KEY\")\n",
    "        }\n",
    "    },\n",
    "    \"embedder\": {\n",
    "        \"provider\": \"huggingface\",\n",
    "        \"config\": {\n",
    "            \"model\": \"multi-qa-MiniLM-L6-cos-v1\"\n",
    "        }\n",
    "    },\n",
    "    \"vector_store\": {  \n",
    "        \"provider\": \"faiss\",  \n",
    "        \"config\": {  \n",
    "            \"path\": \"./faiss_graph_db\",  \n",
    "            \"collection_name\": \"mem0_evaluation\"  ,\n",
    "            \"embedding_model_dims\": 384\n",
    "        }  \n",
    "    },\n",
    "    \"custom_fact_extraction_prompt\": custom_fact_extraction_prompt,\n",
    "    \"version\": \"v1.1\"\n",
    "}\n",
    "\n",
    "m = Memory.from_config(config_dict=config)"
   ]
  },
  {
   "cell_type": "code",
   "execution_count": 7,
   "id": "cbcad252",
   "metadata": {},
   "outputs": [
    {
     "data": {
      "text/plain": [
       "{'results': [{'id': 'e2ceacfa-c9dd-44ff-a4a9-ff0ca6fc1d4a',\n",
       "   'memory': 'Ordered laptop yesterday',\n",
       "   'event': 'ADD'},\n",
       "  {'id': '74771112-4060-45ea-a432-121c31255fac',\n",
       "   'memory': 'Order ID: 12345',\n",
       "   'event': 'ADD'}]}"
      ]
     },
     "execution_count": 7,
     "metadata": {},
     "output_type": "execute_result"
    }
   ],
   "source": [
    "m.add(\"Yesterday, I ordered a laptop, the order id is 12345\", user_id=\"alice\")"
   ]
  },
  {
   "cell_type": "code",
   "execution_count": 8,
   "id": "0614e2d7",
   "metadata": {},
   "outputs": [
    {
     "name": "stderr",
     "output_type": "stream",
     "text": [
      "ERROR:root:Error in new_retrieved_facts: Expecting property name enclosed in double quotes: line 1 column 2 (char 1)\n"
     ]
    },
    {
     "data": {
      "text/plain": [
       "{'results': []}"
      ]
     },
     "execution_count": 8,
     "metadata": {},
     "output_type": "execute_result"
    }
   ],
   "source": [
    "m.add(\"I like going to hikes\", user_id=\"alice\")"
   ]
  }
 ],
 "metadata": {
  "kernelspec": {
   "display_name": "autogen",
   "language": "python",
   "name": "python3"
  },
  "language_info": {
   "codemirror_mode": {
    "name": "ipython",
    "version": 3
   },
   "file_extension": ".py",
   "mimetype": "text/x-python",
   "name": "python",
   "nbconvert_exporter": "python",
   "pygments_lexer": "ipython3",
   "version": "3.11.13"
  }
 },
 "nbformat": 4,
 "nbformat_minor": 5
}
