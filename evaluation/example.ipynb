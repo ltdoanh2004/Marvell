{
 "cells": [
  {
   "cell_type": "code",
   "execution_count": 5,
   "id": "2c03db0d",
   "metadata": {},
   "outputs": [
    {
     "name": "stdout",
     "output_type": "stream",
     "text": [
      "Inferred Memory Result: {'results': [{'id': 'bdfb5fc4-237c-469d-aad9-c0e5c48620be', 'memory': 'How about a thriller movies? They can be quite engaging.', 'event': 'DELETE'}]}\n",
      "Raw Memory Result: {'results': [{'id': '27f04553-dff5-468d-abd7-49d5dd8d3270', 'memory': \"I'm planning to watch a movie tonight. Any recommendations?\", 'event': 'ADD', 'actor_id': None, 'role': 'user'}, {'id': 'f92e6f61-3824-48e4-90cf-3c7da93e79b7', 'memory': 'How about a thriller movies? They can be quite engaging.', 'event': 'ADD', 'actor_id': None, 'role': 'assistant'}, {'id': '3c90c5e7-9f1b-4b81-8a79-5cf5c069104d', 'memory': \"I'm not a big fan of thriller movies but I love sci-fi movies.\", 'event': 'ADD', 'actor_id': None, 'role': 'user'}, {'id': '3c9e75dc-eccd-4c17-89da-6fd869dfa3a8', 'memory': \"Got it! I'll avoid thriller recommendations and suggest sci-fi movies in the future.\", 'event': 'ADD', 'actor_id': None, 'role': 'assistant'}]}\n"
     ]
    }
   ],
   "source": [
    "import os\n",
    "from mem0 import Memory\n",
    "from dotenv import load_dotenv\n",
    "load_dotenv()\n",
    "\n",
    "SHARED_OPEN_AI_CONFIG = {  \n",
    "    \"llm\": {  \n",
    "        \"provider\": \"openai\",  \n",
    "        \"config\": {  \n",
    "            \"model\": os.getenv(\"MODEL\", \"gpt-4o-mini\"),  \n",
    "            \"api_key\": os.getenv(\"OPENAI_API_KEY\")  \n",
    "        }  \n",
    "    },  \n",
    "    \"embedder\": {  \n",
    "        \"provider\": \"openai\",  \n",
    "        \"config\": {  \n",
    "            \"model\": \"text-embedding-3-small\"  \n",
    "        }  \n",
    "    },  \n",
    "    \"vector_store\": {  \n",
    "        \"provider\": \"faiss\",  \n",
    "        \"config\": {  \n",
    "            \"path\": \"./faiss_graph_db\",  \n",
    "            \"collection_name\": \"mem0_evaluation\"  \n",
    "        }  \n",
    "    }\n",
    "}\n",
    "m = Memory.from_config(SHARED_OPEN_AI_CONFIG)\n",
    "messages = [\n",
    "    {\"role\": \"user\", \"content\": \"I'm planning to watch a movie tonight. Any recommendations?\"},\n",
    "    {\"role\": \"assistant\", \"content\": \"How about a thriller movies? They can be quite engaging.\"},\n",
    "    {\"role\": \"user\", \"content\": \"I'm not a big fan of thriller movies but I love sci-fi movies.\"},\n",
    "    {\"role\": \"assistant\", \"content\": \"Got it! I'll avoid thriller recommendations and suggest sci-fi movies in the future.\"}\n",
    "]\n",
    "\n",
    "# Store inferred memories (default behavior)\n",
    "result = m.add(messages, user_id=\"alice\", metadata={\"category\": \"movie_recommendations\"})\n",
    "print(\"Inferred Memory Result:\", result)\n",
    "# Optionally store raw messages without inference\n",
    "result = m.add(messages, user_id=\"Tom\", metadata={\"category\": \"movie_recommendations\"}, infer=False)\n",
    "print(\"Raw Memory Result:\", result)"
   ]
  },
  {
   "cell_type": "code",
   "execution_count": 8,
   "id": "e1d9f9fe",
   "metadata": {},
   "outputs": [
    {
     "data": {
      "text/plain": [
       "{'results': [{'id': '3c9e75dc-eccd-4c17-89da-6fd869dfa3a8',\n",
       "   'memory': \"Got it! I'll avoid thriller recommendations and suggest sci-fi movies in the future.\",\n",
       "   'hash': '148c456203376c3caf5a4b5bd16db1cc',\n",
       "   'metadata': {'category': 'movie_recommendations'},\n",
       "   'score': 1.750837802886963,\n",
       "   'created_at': '2025-07-08T01:00:53.060152-07:00',\n",
       "   'updated_at': None,\n",
       "   'user_id': 'Tom',\n",
       "   'role': 'assistant'}]}"
      ]
     },
     "execution_count": 8,
     "metadata": {},
     "output_type": "execute_result"
    }
   ],
   "source": [
    "\n",
    "related_memories = m.search(\"Should I drink coffee or tea?\", user_id=\"Tom\")\n",
    "\n",
    "related_memories"
   ]
  }
 ],
 "metadata": {
  "kernelspec": {
   "display_name": "autogen",
   "language": "python",
   "name": "python3"
  },
  "language_info": {
   "codemirror_mode": {
    "name": "ipython",
    "version": 3
   },
   "file_extension": ".py",
   "mimetype": "text/x-python",
   "name": "python",
   "nbconvert_exporter": "python",
   "pygments_lexer": "ipython3",
   "version": "3.11.13"
  }
 },
 "nbformat": 4,
 "nbformat_minor": 5
}
